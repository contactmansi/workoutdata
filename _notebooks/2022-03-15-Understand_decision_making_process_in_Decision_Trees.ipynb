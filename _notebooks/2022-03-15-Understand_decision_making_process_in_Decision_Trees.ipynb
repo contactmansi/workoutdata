{
 "cells": [
  {
   "cell_type": "markdown",
   "id": "d194b9da",
   "metadata": {},
   "source": [
    "# Understand Decision Trees decision making process through Visualizations\n",
    "\n",
    "> An approach to mitigate employee churn using [IBM HR Anlaytics Employee Attrition & Performance dataset](https://www.kaggle.com/pavansubhasht/ibm-hr-analytics-attrition-dataset)\n",
    "\n",
    "- toc: false\n",
    "- badges: true\n",
    "- comments: true\n",
    "- categories: [decision-tree, ]\n",
    "- image: images/"
   ]
  },
  {
   "cell_type": "code",
   "execution_count": null,
   "id": "73d6f70f",
   "metadata": {},
   "outputs": [],
   "source": []
  }
 ],
 "metadata": {
  "kernelspec": {
   "display_name": "venv_bt5153",
   "language": "python",
   "name": "venv_bt5153"
  },
  "language_info": {
   "codemirror_mode": {
    "name": "ipython",
    "version": 3
   },
   "file_extension": ".py",
   "mimetype": "text/x-python",
   "name": "python",
   "nbconvert_exporter": "python",
   "pygments_lexer": "ipython3",
   "version": "3.9.10"
  }
 },
 "nbformat": 4,
 "nbformat_minor": 5
}
