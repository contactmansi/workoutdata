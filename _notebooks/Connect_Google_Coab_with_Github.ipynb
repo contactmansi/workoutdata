{
  "nbformat": 4,
  "nbformat_minor": 0,
  "metadata": {
    "colab": {
      "provenance": [],
      "collapsed_sections": [],
      "authorship_tag": "ABX9TyOSVdzh1qsX64lehYZ80fNA",
      "include_colab_link": true
    },
    "kernelspec": {
      "name": "python3",
      "display_name": "Python 3"
    },
    "language_info": {
      "name": "python"
    }
  },
  "cells": [
    {
      "cell_type": "markdown",
      "metadata": {
        "id": "view-in-github",
        "colab_type": "text"
      },
      "source": [
        "<a href=\"https://colab.research.google.com/github/contactmansi/workoutdata/blob/dev/Connect_Google_Coab_with_Github.ipynb\" target=\"_parent\"><img src=\"https://colab.research.google.com/assets/colab-badge.svg\" alt=\"Open In Colab\"/></a>"
      ]
    },
    {
      "cell_type": "code",
      "execution_count": null,
      "metadata": {
        "id": "U2wJhTttFBpU"
      },
      "outputs": [],
      "source": [
        "from google.colab import drive\n",
        "drive.mount('/content/drive')\n",
        "\n",
        "# Check the current path of notebook\n",
        "!pwd\n",
        "# Change path to location in drive where github repository will be created\n",
        "%cd /content/drive/My Drive/CS5344 Big Data/Big data GP/\n",
        "# Check the new updated path of notebook\n",
        "!pwd\n",
        "# Create a new repository in this folder path\n",
        "!git init <repo_name>\n",
        "# Change path to github repository - now any git commands can be executed from this shell\n",
        "%cd Multimodal Fake News Detection Reddit/\n",
        "\n",
        "#Experimental - check the contents of current path:\n",
        "!ls -a\n",
        "!git status\n",
        "!git add .\n",
        "\n",
        "# Create a new repository on github - get repo name\n",
        "\n",
        "\n",
        "# Define credentials for linking remote github repository with local github repo on drive\n",
        "username='<provide your username such as contactmansi?'\n",
        "git_token='<github_token_from_settings_with_repo_access_granted>'\n",
        "repository='<new remote repo name>'\n",
        "\n",
        "!git remote add origin https://{git_token}@github.com/{username}/{repository}.git\n",
        "!git remote -v\n",
        "!git config --global user.email \"<github_email_ID>\"\n",
        "!git config --global user.name \"<Github username>\"\n",
        "!git commit -am \"Initial commit\"\n",
        "!git status\n",
        "\n",
        "# Push changes to remote github repo\n",
        "!git push -u origin master\n"
      ]
    }
  ]
}